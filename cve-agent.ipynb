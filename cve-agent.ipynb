{
 "cells": [
  {
   "cell_type": "markdown",
   "metadata": {},
   "source": [
    "# CVE 分析智能体\n",
    "\n",
    "\n",
    "这个例子主要的教学演示：\n",
    "1. 如何导入外部知识，从 HTML、PDF、MARKDOWN、TEXT 等格式中导入\n",
    "2. 如何将外部知识向量化、存储到向量数据库中，并编排 Agent 查询工具\n",
    "\n",
    "另外我们还将学习:\n",
    "- Arize Phoenix llm 开发观测平台，使用 Arize Phoenix 观测 Agent 的思维过程\n",
    "\n",
    "这个例子将几个 **预定义的 CVE 知识** 导入到向量数据库中，并编排 Agent 查询工具，然后让 Agent 分析用户的问题，选择是否使用外部知识，并给出分析结果。\n",
    "\n",
    "CVE  数据网站: [www.cvedetails.com](https://www.cvedetails.com)"
   ]
  },
  {
   "cell_type": "code",
   "execution_count": 23,
   "metadata": {},
   "outputs": [],
   "source": [
    "# API Key 设置\n",
    "import os\n",
    "\n",
    "# os.environ[\"OPENAI_API_KEY\"] = \"sk-******\"\n",
    "# os.environ[\"OPENAI_API_BASE\"] = \"https://api.****\""
   ]
  },
  {
   "cell_type": "markdown",
   "metadata": {},
   "source": [
    "# 安装依赖库"
   ]
  },
  {
   "cell_type": "code",
   "execution_count": null,
   "metadata": {},
   "outputs": [],
   "source": [
    "%pip install llama-index\n",
    "%pip install llama-index-llms-openai\n",
    "%pip install llama-index-callbacks-arize-phoenix\n",
    "%pip install tqdm"
   ]
  },
  {
   "cell_type": "markdown",
   "metadata": {},
   "source": [
    "# CVE 分析智能体"
   ]
  },
  {
   "cell_type": "markdown",
   "metadata": {},
   "source": [
    "## 非结构化数据解析\n",
    "TXT 是常见的非结构化数据，我们可以使用 llama-index 封装的 `UnstructuredReader` 来解析 TXT 数据。"
   ]
  },
  {
   "cell_type": "code",
   "execution_count": null,
   "metadata": {},
   "outputs": [
    {
     "name": "stderr",
     "output_type": "stream",
     "text": [
      "WARNING:root:'doc_id' is deprecated and 'id_' will be used instead\n",
      "WARNING:root:'doc_id' is deprecated and 'id_' will be used instead\n",
      "WARNING:root:'doc_id' is deprecated and 'id_' will be used instead\n",
      "WARNING:root:'doc_id' is deprecated and 'id_' will be used instead\n"
     ]
    },
    {
     "name": "stderr",
     "output_type": "stream",
     "text": [
      "WARNING:root:'doc_id' is deprecated and 'id_' will be used instead\n"
     ]
    }
   ],
   "source": [
    "from llama_index.readers.file import UnstructuredReader\n",
    "\n",
    "data_dir = 'data/cve-agent'\n",
    "\n",
    "reader = UnstructuredReader()\n",
    "all_cve_docs = []\n",
    "all_product_docs = []\n",
    "for file_name in os.listdir(data_dir):\n",
    "    if not file_name.endswith('.txt'):\n",
    "        continue\n",
    "    \n",
    "    file_path = os.path.join(data_dir, file_name)\n",
    "    documents = reader.load_data(file=file_path)\n",
    "    if file_name.startswith('CVE-'):\n",
    "        all_cve_docs.extend(documents)\n",
    "    elif file_name.startswith('product-'):\n",
    "        all_product_docs.extend(documents)"
   ]
  },
  {
   "cell_type": "markdown",
   "metadata": {},
   "source": [
    "# 导入观测插件\n"
   ]
  },
  {
   "cell_type": "code",
   "execution_count": 55,
   "metadata": {},
   "outputs": [
    {
     "name": "stderr",
     "output_type": "stream",
     "text": [
      "WARNING:opentelemetry.instrumentation.instrumentor:Attempting to instrument while already instrumented\n"
     ]
    },
    {
     "name": "stdout",
     "output_type": "stream",
     "text": [
      "🌍 To view the Phoenix app in your browser, visit http://localhost:6006/\n",
      "📖 For more information on how to use Phoenix, check out https://docs.arize.com/phoenix\n"
     ]
    }
   ],
   "source": [
    "from llama_index.core.settings import Settings\n",
    "from llama_index.core.callbacks import CallbackManager\n",
    "\n",
    "callback_manager = CallbackManager()\n",
    "Settings.callback_manager = callback_manager\n",
    "\n",
    "# setup Arize Phoenix for logging/observability\n",
    "import phoenix as px\n",
    "import llama_index.core\n",
    "\n",
    "px.launch_app()\n",
    "llama_index.core.set_global_handler(\"arize_phoenix\")"
   ]
  },
  {
   "cell_type": "markdown",
   "metadata": {},
   "source": [
    "## 向量化"
   ]
  },
  {
   "cell_type": "code",
   "execution_count": 56,
   "metadata": {},
   "outputs": [],
   "source": [
    "from llama_index.core import VectorStoreIndex, StorageContext\n",
    "from llama_index.embeddings.openai import OpenAIEmbedding\n",
    "from llama_index.llms.openai import OpenAI\n",
    "from llama_index.core import Settings\n",
    "\n",
    "Settings.chunk_size = 512\n",
    "Settings.chunk_overlap = 64\n",
    "Settings.llm = OpenAI(model=\"gpt-4o\")\n",
    "Settings.embed_model = OpenAIEmbedding(model=\"text-embedding-3-small\")\n"
   ]
  },
  {
   "cell_type": "markdown",
   "metadata": {},
   "source": [
    "### 新数据向量化"
   ]
  },
  {
   "cell_type": "code",
   "execution_count": 57,
   "metadata": {},
   "outputs": [
    {
     "data": {
      "application/vnd.jupyter.widget-view+json": {
       "model_id": "664f4fad4db2451ca48a61538cc59b92",
       "version_major": 2,
       "version_minor": 0
      },
      "text/plain": [
       "Parsing nodes:   0%|          | 0/3 [00:00<?, ?it/s]"
      ]
     },
     "metadata": {},
     "output_type": "display_data"
    },
    {
     "data": {
      "application/vnd.jupyter.widget-view+json": {
       "model_id": "fb364e969a4b4ab896b7c4487e7f816f",
       "version_major": 2,
       "version_minor": 0
      },
      "text/plain": [
       "Generating embeddings:   0%|          | 0/7 [00:00<?, ?it/s]"
      ]
     },
     "metadata": {},
     "output_type": "display_data"
    },
    {
     "data": {
      "application/vnd.jupyter.widget-view+json": {
       "model_id": "b4d2ee85b8cb472496fb512862db6972",
       "version_major": 2,
       "version_minor": 0
      },
      "text/plain": [
       "Parsing nodes:   0%|          | 0/2 [00:00<?, ?it/s]"
      ]
     },
     "metadata": {},
     "output_type": "display_data"
    },
    {
     "data": {
      "application/vnd.jupyter.widget-view+json": {
       "model_id": "b026591d5a7f456d941b78ed33d75d9b",
       "version_major": 2,
       "version_minor": 0
      },
      "text/plain": [
       "Generating embeddings:   0%|          | 0/7 [00:00<?, ?it/s]"
      ]
     },
     "metadata": {},
     "output_type": "display_data"
    }
   ],
   "source": [
    "cve_storage_context = StorageContext.from_defaults()\n",
    "product_storage_context = StorageContext.from_defaults()\n",
    "cve_index = VectorStoreIndex.from_documents(all_cve_docs, storage_context=cve_storage_context, show_progress=True)\n",
    "product_index = VectorStoreIndex.from_documents(all_product_docs, storage_context=product_storage_context, show_progress=True)\n",
    "cve_storage_context.persist(persist_dir='data/cve-agent/storage/cve')\n",
    "product_storage_context.persist(persist_dir='data/cve-agent/storage/product')\n",
    "\n",
    "cve_query_engine = cve_index.as_query_engine()\n",
    "product_query_engine = product_index.as_query_engine()"
   ]
  },
  {
   "cell_type": "markdown",
   "metadata": {},
   "source": [
    "### 加载已向量化的数据"
   ]
  },
  {
   "cell_type": "code",
   "execution_count": 58,
   "metadata": {},
   "outputs": [],
   "source": [
    "from llama_index.core import load_index_from_storage\n",
    "\n",
    "cve_index_storage_context = StorageContext.from_defaults(persist_dir='data/cve-agent/storage/cve')\n",
    "product_index_storage_context = StorageContext.from_defaults(persist_dir='data/cve-agent/storage/product')\n",
    "\n",
    "cve_index = load_index_from_storage(cve_index_storage_context)\n",
    "product_index = load_index_from_storage(product_index_storage_context)\n",
    "\n",
    "cve_query_engine = cve_index.as_query_engine()\n",
    "product_query_engine = product_index.as_query_engine()"
   ]
  },
  {
   "cell_type": "code",
   "execution_count": 59,
   "metadata": {},
   "outputs": [
    {
     "data": {
      "text/plain": [
       "Response(response='Cursor 软件中存在一个漏洞，其 CVE 编号是 CVE-2025-27554。这个漏洞允许远程攻击者通过在 package.json 中使用 postinstall 脚本在构建服务器上执行任意命令，并因此可以部署更新到任何应用程序。', source_nodes=[NodeWithScore(node=TextNode(id_='de994e4f-3609-4aae-9e3e-617e9a0f3c01', embedding=None, metadata={'last_modified': '2025-03-02T14:47:26', 'languages': '[\"eng\"]', 'file_directory': 'data/cve-agent', 'filename': 'CVE-2025-27416.txt', 'filetype': 'text/plain'}, excluded_embed_metadata_keys=[], excluded_llm_metadata_keys=[], relationships={<NodeRelationship.SOURCE: '1'>: RelatedNodeInfo(node_id='CVE-2025-27416.txt', node_type='4', metadata={'last_modified': '2025-03-02T14:47:26', 'languages': '[\"eng\"]', 'file_directory': 'data/cve-agent', 'filename': 'CVE-2025-27416.txt', 'filetype': 'text/plain'}, hash='c79e97c4a822e329dbf5af256eb2f20ecb2e0b7a1206f1a8842f46cdca756b2d'), <NodeRelationship.PREVIOUS: '2'>: RelatedNodeInfo(node_id='04ffb9b1-3f94-480b-85e5-553dc44ee780', node_type='1', metadata={'last_modified': '2025-03-02T14:47:26', 'languages': '[\"eng\"]', 'file_directory': 'data/cve-agent', 'filename': 'CVE-2025-27416.txt', 'filetype': 'text/plain'}, hash='e712c4ddbd234cac103621e613b5e4ac796ad0cf8817f7294f505bdd0b853ee3')}, metadata_template='{key}: {value}', metadata_separator='\\n', text='Any user who used the sign in page would be susceptible to any other user signing into their account. As of time of publication, a fix is not available but work on a fix is underway. As a workaround, users should avoid signing in.\\n\\nCWE 1 Total\\n\\nLearn more\\n\\nCWE\\n\\n287: CWE\\n\\n287: Improper Authentication\\n\\nCVSS 1 Total\\n\\nLearn more\\n\\nScore Severity Version Vector String\\n\\n5.9 MEDIUM 4.0 CVSS:4.0/AV:N/AC:L/AT:P/PR:N/UI:P/VC:H/VI:H/VA:N/SC:H/SI:H/SA:N/E:U\\n\\nProduct Status\\n\\nLearn more\\n\\nVendor\\n\\nScratch\\n\\nCoding\\n\\nHut\\n\\nProduct\\n\\nScratch\\n\\nCoding\\n\\nHut.github.io\\n\\nVersions 1 Total\\n\\nDefault Status: unknown\\n\\naffected\\n\\naffected at <= 2025\\n\\n02\\n\\n28\\n\\nReferences 2 Total\\n\\ngithub.com: https://github.com/Scratch\\n\\nCoding\\n\\nHut/Scratch\\n\\nCoding\\n\\nHut.github.io/security/advisories/GHSA\\n\\nxx32\\n\\nr9wr\\n\\nwhff\\n\\ngithub.com: https://github.com/Scratch\\n\\nCoding\\n\\nHut/Scratch\\n\\nCoding\\n\\nHut.github.io/issues/3\\n\\nOn this page\\n\\nRequired CVE Record Information CNA: GitHub (maintainer security advisories) Policies & Cookies Terms of Use Website Security Policy Privacy Policy Cookie Notice Manage Cookies Media News Blogs Podcasts Email newsletter sign up Social Media New CVE Records CVE Announce Contact CVE Program Support CNA Partners CVE Website Support CVE Program Idea Tracker Use of the CVE® List and the associated references from this website are subject to the terms of use. CVE is sponsored by the U.S. Department of Homeland Security (DHS) Cybersecurity and Infrastructure Security Agency (CISA) . Copyright © 1999-2025, The MITRE Corporation . CVE and the CVE logo are registered trademarks of The MITRE Corporation.', mimetype='text/plain', start_char_idx=865, end_char_idx=2452, metadata_seperator='\\n', text_template='{metadata_str}\\n\\n{content}'), score=0.5534926398323949), NodeWithScore(node=TextNode(id_='ed437cc7-44f5-488e-98c0-6585f01be570', embedding=None, metadata={'last_modified': '2025-03-02T14:47:44', 'languages': '[\"eng\"]', 'file_directory': 'data/cve-agent', 'filename': 'CVE-2025-27554.txt', 'filetype': 'text/plain'}, excluded_embed_metadata_keys=[], excluded_llm_metadata_keys=[], relationships={<NodeRelationship.SOURCE: '1'>: RelatedNodeInfo(node_id='CVE-2025-27554.txt', node_type='4', metadata={'last_modified': '2025-03-02T14:47:44', 'languages': '[\"eng\"]', 'file_directory': 'data/cve-agent', 'filename': 'CVE-2025-27554.txt', 'filetype': 'text/plain'}, hash='4c87e90d12b814f686d832060bd9d978e20a98c20ea5e333da49894c93fbd07c'), <NodeRelationship.NEXT: '3'>: RelatedNodeInfo(node_id='265e4297-a555-4167-ae07-bf9b56e13315', node_type='1', metadata={}, hash='33a085a3e2a03113a3303781c802805211906e16968c1e5b10f54cf9d1116a03')}, metadata_template='{key}: {value}', metadata_separator='\\n', text='Skip to main content\\n\\nCVE logo\\n\\nAbout\\n\\nPartner Information\\n\\nProgram Organization\\n\\nDownloads\\n\\nResources & Support\\n\\nReport/Request\\n\\nEnter keywords (e.g.: CVE ID, sql injection, etc.)\\n\\nSearch tips\\n\\n|\\n\\nProvide feedback\\n\\nNotice: Keyword searching of CVE Records is now available in the search box above. Keywords may include a CVE ID (e.g., CVE-2024-1234), or one or more keywords separated by a space (e.g., authorization, SQL Injection, cross site scripting, etc.). Learn more here. CVE-2025-27554 PUBLISHED View JSON | User Guide Required CVE Record Information\\n\\nCNA: MITRE Corporation Published: 2025-03-01 Updated: 2025-03-01 Tags: exclusively-hosted-service Description ToDesktop before 2024-10-03, as used by Cursor before 2024-10-03 and other applications, allows remote attackers to execute arbitrary commands on the build server (e.g., read secrets from the desktopify config.prod.json file), and consequently deploy updates to any app, via a postinstall script in package.json. No exploitation occurred.', mimetype='text/plain', start_char_idx=0, end_char_idx=1009, metadata_seperator='\\n', text_template='{metadata_str}\\n\\n{content}'), score=0.5379457896431553)], metadata={'de994e4f-3609-4aae-9e3e-617e9a0f3c01': {'last_modified': '2025-03-02T14:47:26', 'languages': '[\"eng\"]', 'file_directory': 'data/cve-agent', 'filename': 'CVE-2025-27416.txt', 'filetype': 'text/plain'}, 'ed437cc7-44f5-488e-98c0-6585f01be570': {'last_modified': '2025-03-02T14:47:44', 'languages': '[\"eng\"]', 'file_directory': 'data/cve-agent', 'filename': 'CVE-2025-27554.txt', 'filetype': 'text/plain'}})"
      ]
     },
     "execution_count": 59,
     "metadata": {},
     "output_type": "execute_result"
    }
   ],
   "source": [
    "response = cve_query_engine.query(\"Cursor 有哪些漏洞？CVE 编号是什么？\")\n",
    "response"
   ]
  },
  {
   "cell_type": "code",
   "execution_count": 60,
   "metadata": {},
   "outputs": [
    {
     "data": {
      "text/plain": [
       "Response(response='Cursor 是一款智能化的代码编辑器，基于 VS Code 构建，旨在通过 AI 集成来提升开发者的工作效率。它提供了多种核心功能，如智能代码补全、代码查询对话界面、复杂代码修改支持等，帮助开发者更快速高效地完成编码任务。用户可以通过下载和安装 Cursor，在短时间内上手这些强大的 AI 功能。', source_nodes=[NodeWithScore(node=TextNode(id_='a58caba4-529f-4bff-b4fb-0bd93122e858', embedding=None, metadata={'last_modified': '2025-03-02T14:54:38', 'languages': '[\"eng\"]', 'file_directory': 'data/cve-agent', 'filename': 'product-cursor.txt', 'filetype': 'text/plain'}, excluded_embed_metadata_keys=[], excluded_llm_metadata_keys=[], relationships={<NodeRelationship.SOURCE: '1'>: RelatedNodeInfo(node_id='product-cursor.txt', node_type='4', metadata={'last_modified': '2025-03-02T14:54:38', 'languages': '[\"eng\"]', 'file_directory': 'data/cve-agent', 'filename': 'product-cursor.txt', 'filetype': 'text/plain'}, hash='3a4701acfd7ae45f262eeb7f61917223286c095a40487dd30c9c33ead07f9ec9'), <NodeRelationship.PREVIOUS: '2'>: RelatedNodeInfo(node_id='0e9da1d8-20f0-48c8-ad7b-da4c2d3f2975', node_type='1', metadata={'last_modified': '2025-03-02T14:54:38', 'languages': '[\"eng\"]', 'file_directory': 'data/cve-agent', 'filename': 'product-cursor.txt', 'filetype': 'text/plain'}, hash='a0c064d3c7229bbcb5964faa6971e44c2d7f8bdae3ef8d5e5cb312aec24ad39c'), <NodeRelationship.NEXT: '3'>: RelatedNodeInfo(node_id='45343965-ae0c-4e6f-864c-009f6c1e7dcf', node_type='1', metadata={}, hash='b8620f14376f003648e8bf19105a58d2479877af97d2bb558fba804f27d265ad')}, metadata_template='{key}: {value}', metadata_separator='\\n', text='\\u200b How does it work? Cursor provides the user with a few fundamental features that are only made possible by the development of LLMs (Large Language Models).\\n\\n\\u200b How do I get started? You can download Cursor from the Cursor website for your platform of choice. Being based on VS Code, it’s extremely easy to get started, and all the AI features are opt-in.\\n\\nYou can also have Cursor import all your VS Code extensions and settings in one-click. To help you try Cursor, we have a 14-day free trial our of Pro plan, with no credit card required!\\n\\nGet Started with Installation\\n\\nIntroduction Learn how to use Cursor’s core features: Tab completion, Chat for code queries, and Agent for assistance\\n\\n\\u200b Overview Cursor is a powerful AI-first code editor that enhances your development workflow. After installation, you’ll have access to these core features that work together seamlessly to make you more productive:\\n\\nAI-powered code completion that understands your codebase and provides context-aware suggestions Conversation interface for exploring, understanding, and modifying code with Ask, Edit, and Agent modes Intelligent tools for handling complex development tasks \\u200b Getting Started Start exploring Cursor’s AI-powered features:\\n\\nTab: Press Tab for intelligent code completions CMD-K: Use Cmd/Ctrl + K for inline code edits Composer: Use ⌘I to open the unified AI interface with Ask, Edit, and Agent modes \\u200b Settings Cursor is designed to be flexible and customizable. You can configure it in two ways:\\n\\n\\u200b Cursor Settings Access via gear icon, Cmd/Ctrl + Shift + J, or Command Palette > Cursor Settings Configure AI features and Cursor-specific preferences \\u200b Editor Settings Access via Command Palette (Cmd/Ctrl + Shift + P) > \"Preferences: Open Settings (UI)\" Adjust editor behavior and appearance Let’s explore each feature in detail:\\n\\n\\u200b Tab Tab completion in Cursor is powered by advanced AI models that understand your code context. As you type, you’ll receive intelligent suggestions that:\\n\\nComplete your current line of code Suggest entire function implementations Help with common patterns and boilerplate Adapt to your coding style over time Learn more about Tab features or see how it compares to GitHub Copilot.', mimetype='text/plain', start_char_idx=2181, end_char_idx=4404, metadata_seperator='\\n', text_template='{metadata_str}\\n\\n{content}'), score=0.38868754689715673), NodeWithScore(node=TextNode(id_='0e9da1d8-20f0-48c8-ad7b-da4c2d3f2975', embedding=None, metadata={'last_modified': '2025-03-02T14:54:38', 'languages': '[\"eng\"]', 'file_directory': 'data/cve-agent', 'filename': 'product-cursor.txt', 'filetype': 'text/plain'}, excluded_embed_metadata_keys=[], excluded_llm_metadata_keys=[], relationships={<NodeRelationship.SOURCE: '1'>: RelatedNodeInfo(node_id='product-cursor.txt', node_type='4', metadata={'last_modified': '2025-03-02T14:54:38', 'languages': '[\"eng\"]', 'file_directory': 'data/cve-agent', 'filename': 'product-cursor.txt', 'filetype': 'text/plain'}, hash='3a4701acfd7ae45f262eeb7f61917223286c095a40487dd30c9c33ead07f9ec9'), <NodeRelationship.NEXT: '3'>: RelatedNodeInfo(node_id='a58caba4-529f-4bff-b4fb-0bd93122e858', node_type='1', metadata={}, hash='1d0300c072f84365eb0bc094f5dd0db616234b153459b8a025f1ac34903232b1')}, metadata_template='{key}: {value}', metadata_separator='\\n', text='Cursor home pagedark logo\\n\\nSearch or ask...\\n\\n⌘K\\n\\nLogin\\n\\nDownload\\n\\nForum Get Help Get Started Welcome to Cursor Installation Migrate from VS Code Introduction FAQ Editor Tab Agent Composer Ask ⌘K AI Commit Message Beta Keyboard Shortcuts Context Codebase Indexing Rules for AI @ Symbols Ignore Files Model Context Protocol Settings Models Preferences Custom API Keys Account Usage Plans Team Dashboard Billing Pricing Privacy Security Troubleshooting Common Issues Troubleshooting Guide Getting a Request ID Resources Forum Get Started Welcome to Cursor AI-powered IDE with Chat, Tab, and Agent for intelligent code development\\n\\nCursor is a new, intelligent IDE, empowered by seamless integrations with AI. Built upon VSCode, Cursor is quick to learn, but can make you extraordinarily productive.\\n\\n\\u200b Get started If you’re new to Cursor, you can get started using the guides below.\\n\\nInstallation Get started with Cursor in minutes, by downloading and installing for your platform.\\n\\nMigrate from VS Code Coming from another editor? Use our migration guides to get started quickly.\\n\\n\\u200b Editor Cursor has a number of core features that will seamlessly integrate with your workflow. Use the links below to learn more about what Cursor can do.\\n\\nTab Smart code completion that learns from you! Make multi-line edits, fix errors you might have missed, and predict your next action.\\n\\nAgent Your AI pair programmer for complex code changes. Make large-scale edits with precise context control and automatic fixes.\\n\\nCmd-K Quick inline code editing and generation. Perfect for making precise changes without breaking your flow.\\n\\nChat Context-aware AI assistant that understands your codebase. Get answers and apply code changes directly in your editor.\\n\\n\\u200b Where did Cursor come from? Code is fundamentally text, and our tools for writing it have evolved from simple text editors into increasingly intelligent development environments.\\n\\nInitially, we had features like syntax highlighting, to make code more readable. Then, we had features like autocomplete, to make code more efficient.\\n\\nThese have been the standard for a long time, but with Cursor, we’re re-inventing how you work with code.\\n\\n\\u200b How does it work? Cursor provides the user with a few fundamental features that are only made possible by the development of LLMs (Large Language Models).\\n\\n\\u200b How do I get started?', mimetype='text/plain', start_char_idx=0, end_char_idx=2362, metadata_seperator='\\n', text_template='{metadata_str}\\n\\n{content}'), score=0.37070151659019)], metadata={'a58caba4-529f-4bff-b4fb-0bd93122e858': {'last_modified': '2025-03-02T14:54:38', 'languages': '[\"eng\"]', 'file_directory': 'data/cve-agent', 'filename': 'product-cursor.txt', 'filetype': 'text/plain'}, '0e9da1d8-20f0-48c8-ad7b-da4c2d3f2975': {'last_modified': '2025-03-02T14:54:38', 'languages': '[\"eng\"]', 'file_directory': 'data/cve-agent', 'filename': 'product-cursor.txt', 'filetype': 'text/plain'}})"
      ]
     },
     "execution_count": 60,
     "metadata": {},
     "output_type": "execute_result"
    }
   ],
   "source": [
    "response = product_query_engine.query(\"Cursor 是什么？\")\n",
    "response"
   ]
  },
  {
   "cell_type": "markdown",
   "metadata": {},
   "source": [
    "# 编排 Agent 查询工具"
   ]
  },
  {
   "cell_type": "code",
   "execution_count": 61,
   "metadata": {},
   "outputs": [],
   "source": [
    "\n",
    "from llama_index.core.tools import QueryEngineTool, ToolMetadata\n",
    "\n",
    "cve_query_engine_tool = QueryEngineTool(\n",
    "    query_engine=cve_query_engine,\n",
    "    metadata=ToolMetadata(\n",
    "        name=\"cve_query\",\n",
    "        description=\"查询 CVE 漏洞信息\"\n",
    "    )\n",
    ")\n",
    "\n",
    "product_query_engine_tool = QueryEngineTool(\n",
    "    query_engine=product_query_engine,\n",
    "    metadata=ToolMetadata(\n",
    "        name=\"product_query\",\n",
    "        description=\"查询产品信息\"\n",
    "    )\n",
    ")"
   ]
  },
  {
   "cell_type": "markdown",
   "metadata": {},
   "source": [
    "# 构建 Agent"
   ]
  },
  {
   "cell_type": "code",
   "execution_count": 62,
   "metadata": {},
   "outputs": [
    {
     "name": "stdout",
     "output_type": "stream",
     "text": [
      "Added user message to memory: CVE-2025-27554 是什么漏洞？这个漏洞将影响到哪些产品？对于影响到的产品需要简介，并提供修复方案。输出报告格式为 markdown 格式。\n",
      "=== Calling Function ===\n",
      "Calling function: cve_query with args: {\"input\":\"CVE-2025-27554\"}\n",
      "Got output: CVE-2025-27554 describes a vulnerability in ToDesktop before October 3, 2024, which is used by Cursor and other applications. This vulnerability allows remote attackers to execute arbitrary commands on the build server, such as reading secrets from the desktopify config.prod.json file, and subsequently deploying updates to any app via a postinstall script in package.json. It is noted that no exploitation of this vulnerability has occurred.\n",
      "========================\n",
      "\n",
      "=== Calling Function ===\n",
      "Calling function: product_query with args: {\"input\": \"ToDesktop\"}\n",
      "Got output: ToDesktop is a platform that allows you to transform your web app codebase into a cross-platform desktop application with native functionality. It supports integration with various web stacks and frameworks, enabling the creation of desktop apps for Mac, Windows, and Linux. Using ToDesktop Builder, you can quickly turn a web app into a desktop app, add native features, and customize the app using system-level APIs.\n",
      "========================\n",
      "\n",
      "=== Calling Function ===\n",
      "Calling function: product_query with args: {\"input\": \"Cursor\"}\n",
      "Got output: Cursor is an AI-powered code editor built on VS Code, designed to enhance your development workflow. It offers features like intelligent code completion, chat for code queries, and an agent for assistance with complex development tasks. You can easily download and install Cursor from its website, and it supports importing all your VS Code extensions and settings with one click. Cursor provides a 14-day free trial of its Pro plan without requiring a credit card. The editor is customizable, allowing adjustments to both AI features and standard editor settings.\n",
      "========================\n",
      "\n"
     ]
    }
   ],
   "source": [
    "from llama_index.agent.openai import OpenAIAgent\n",
    "\n",
    "tools = [cve_query_engine_tool, product_query_engine_tool]\n",
    "\n",
    "agent = OpenAIAgent.from_tools(tools, verbose=True)\n",
    "response = agent.query(\"CVE-2025-27554 是什么漏洞？这个漏洞将影响到哪些产品？对于影响到的产品需要简介，并提供修复方案。输出报告格式为 markdown 格式。\")"
   ]
  },
  {
   "cell_type": "markdown",
   "metadata": {},
   "source": [
    "## 输出报告"
   ]
  },
  {
   "cell_type": "code",
   "execution_count": 63,
   "metadata": {},
   "outputs": [
    {
     "data": {
      "text/markdown": [
       "# CVE-2025-27554 漏洞报告\n",
       "\n",
       "## 漏洞描述\n",
       "CVE-2025-27554 描述了 ToDesktop 在 2024 年 10 月 3 日之前的版本中的一个漏洞，该漏洞被 Cursor 和其他应用程序使用。此漏洞允许远程攻击者在构建服务器上执行任意命令，例如从 desktopify config.prod.json 文件中读取机密信息，并随后通过 package.json 中的 postinstall 脚本部署更新。需要注意的是，目前尚未发生对该漏洞的利用。\n",
       "\n",
       "## 影响产品\n",
       "### ToDesktop\n",
       "ToDesktop 是一个平台，允许您将 Web 应用代码库转换为具有本机功能的跨平台桌面应用程序。它支持与各种 Web 堆栈和框架的集成，能够创建适用于 Mac、Windows 和 Linux 的桌面应用程序。使用 ToDesktop Builder，您可以快速将 Web 应用转换为桌面应用，添加本机功能，并使用系统级 API 自定义应用。\n",
       "\n",
       "### Cursor\n",
       "Cursor 是一个基于 VS Code 的 AI 驱动代码编辑器，旨在增强您的开发工作流程。它提供智能代码补全、代码查询聊天和复杂开发任务的助手等功能。您可以轻松地从其网站下载并安装 Cursor，并支持一键导入所有 VS Code 扩展和设置。Cursor 提供 14 天的 Pro 计划免费试用，无需信用卡。该编辑器是可自定义的，允许调整 AI 功能和标准编辑器设置。\n",
       "\n",
       "## 修复方案\n",
       "1. **更新 ToDesktop**：确保使用 ToDesktop 的最新版本，该版本已修复此漏洞。定期检查并应用安全更新。\n",
       "2. **安全配置**：在构建服务器上实施严格的安全配置，限制对敏感文件的访问权限。\n",
       "3. **代码审查**：定期进行代码审查，特别是对 package.json 文件中的 postinstall 脚本进行审查，以防止恶意代码注入。\n",
       "4. **监控和日志记录**：启用构建服务器的监控和日志记录，以便在发生异常活动时能够及时检测和响应。\n",
       "\n",
       "通过以上措施，可以有效降低 CVE-2025-27554 漏洞带来的安全风险。"
      ],
      "text/plain": [
       "<IPython.core.display.Markdown object>"
      ]
     },
     "metadata": {},
     "output_type": "display_data"
    }
   ],
   "source": [
    "from IPython.display import Markdown\n",
    "display(Markdown(response.response))"
   ]
  }
 ],
 "metadata": {
  "kernelspec": {
   "display_name": "base",
   "language": "python",
   "name": "python3"
  },
  "language_info": {
   "codemirror_mode": {
    "name": "ipython",
    "version": 3
   },
   "file_extension": ".py",
   "mimetype": "text/x-python",
   "name": "python",
   "nbconvert_exporter": "python",
   "pygments_lexer": "ipython3",
   "version": "3.12.7"
  }
 },
 "nbformat": 4,
 "nbformat_minor": 2
}
